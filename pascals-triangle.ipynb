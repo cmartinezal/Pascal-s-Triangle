{
 "cells": [
  {
   "cell_type": "code",
   "execution_count": 4,
   "metadata": {},
   "outputs": [
    {
     "name": "stdout",
     "output_type": "stream",
     "text": [
      "Input: numRows = 0\n",
      "Output: []\n",
      "Input: numRows = 1\n",
      "Output: [1]\n",
      "Input: numRows = 2\n",
      "Output: [[1], [1, 1]]\n",
      "Input: numRows = 3\n",
      "Output: [[1], [1, 1], [1, 2, 1]]\n",
      "Input: numRows = 4\n",
      "Output: [[1], [1, 1], [1, 2, 1], [1, 3, 3, 1]]\n",
      "Input: numRows = 5\n",
      "Output: [[1], [1, 1], [1, 2, 1], [1, 3, 3, 1], [1, 4, 6, 4, 1]]\n",
      "Input: numRows = 6\n",
      "Output: [[1], [1, 1], [1, 2, 1], [1, 3, 3, 1], [1, 4, 6, 4, 1], [1, 5, 10, 10, 5, 1]]\n",
      "Input: numRows = 7\n",
      "Output: [[1], [1, 1], [1, 2, 1], [1, 3, 3, 1], [1, 4, 6, 4, 1], [1, 5, 10, 10, 5, 1], [1, 6, 15, 20, 15, 6, 1]]\n",
      "Input: numRows = 8\n",
      "Output: [[1], [1, 1], [1, 2, 1], [1, 3, 3, 1], [1, 4, 6, 4, 1], [1, 5, 10, 10, 5, 1], [1, 6, 15, 20, 15, 6, 1], [1, 7, 21, 35, 35, 21, 7, 1]]\n",
      "Input: numRows = 9\n",
      "Output: [[1], [1, 1], [1, 2, 1], [1, 3, 3, 1], [1, 4, 6, 4, 1], [1, 5, 10, 10, 5, 1], [1, 6, 15, 20, 15, 6, 1], [1, 7, 21, 35, 35, 21, 7, 1], [1, 8, 28, 56, 70, 56, 28, 8, 1]]\n"
     ]
    }
   ],
   "source": [
    "from typing import List\n",
    "\n",
    "class PascalTriangle:\n",
    "    def generate_rows(self, numRows: int) -> List[List[int]]:\n",
    "        if numRows < 1:\n",
    "            return  []\n",
    "    \n",
    "        pascal_triangle = [[1]]\n",
    "\n",
    "        if numRows == 1:\n",
    "            return pascal_triangle[numRows - 1]\n",
    "\n",
    "        current_row = 2\n",
    "        while current_row <= numRows:\n",
    "            prev_row = pascal_triangle[current_row - 2]\n",
    "            row = [prev_row[0]]\n",
    "            last_index = len(prev_row) - 1\n",
    "            for i in range(last_index):\n",
    "                row.append(prev_row[i] + prev_row[i + 1])\n",
    "            row.append(prev_row[last_index])\n",
    "            pascal_triangle.append(row)\n",
    "            current_row += 1\n",
    "\n",
    "        return pascal_triangle\n",
    "\n",
    "    def print_PascalTriangle(self, numRows):\n",
    "        print(f'Input: numRows = {numRows}')\n",
    "        pascal_triangle = self.generate_rows(numRows)\n",
    "        print(f'Output: {pascal_triangle}')\n",
    "\n",
    "# Tests\n",
    "PascalTriangle = PascalTriangle()\n",
    "for numRows in range(10):\n",
    "    PascalTriangle.print_PascalTriangle(numRows)\n"
   ]
  },
  {
   "attachments": {},
   "cell_type": "markdown",
   "metadata": {},
   "source": [
    "The time complexity to generate all rows in Pascal triangle is O(n^2), where 'n' is the total number of rows provided. \n",
    "that is because we need ro generate up to n elements for each row.\n",
    "\n",
    "\n",
    "Similarly, the space complexity for this PascalTriangle is O(m x n) where m are the number of rows and n the number of elements in each row."
   ]
  }
 ],
 "metadata": {
  "kernelspec": {
   "display_name": "Python 3.6.7 64-bit",
   "language": "python",
   "name": "python3"
  },
  "language_info": {
   "codemirror_mode": {
    "name": "ipython",
    "version": 3
   },
   "file_extension": ".py",
   "mimetype": "text/x-python",
   "name": "python",
   "nbconvert_exporter": "python",
   "pygments_lexer": "ipython3",
   "version": "3.6.7"
  },
  "orig_nbformat": 4,
  "vscode": {
   "interpreter": {
    "hash": "aee8b7b246df8f9039afb4144a1f6fd8d2ca17a180786b69acc140d282b71a49"
   }
  }
 },
 "nbformat": 4,
 "nbformat_minor": 2
}
