{
 "cells": [
  {
   "cell_type": "code",
   "execution_count": 26,
   "metadata": {},
   "outputs": [
    {
     "name": "stdout",
     "output_type": "stream",
     "text": [
      "Input: num_rows = 0\n",
      "Output: []\n",
      "Input: num_rows = 1\n",
      "Output: [[1]]\n",
      "Input: num_rows = 2\n",
      "Output: [[1], [1, 1]]\n",
      "Input: num_rows = 3\n",
      "Output: [[1], [1, 1], [1, 2, 1]]\n",
      "Input: num_rows = 4\n",
      "Output: [[1], [1, 1], [1, 2, 1], [1, 3, 3, 1]]\n",
      "Input: num_rows = 5\n",
      "Output: [[1], [1, 1], [1, 2, 1], [1, 3, 3, 1], [1, 4, 6, 4, 1]]\n",
      "Input: num_rows = 6\n",
      "Output: [[1], [1, 1], [1, 2, 1], [1, 3, 3, 1], [1, 4, 6, 4, 1], [1, 5, 10, 10, 5, 1]]\n",
      "Input: num_rows = 7\n",
      "Output: [[1], [1, 1], [1, 2, 1], [1, 3, 3, 1], [1, 4, 6, 4, 1], [1, 5, 10, 10, 5, 1], [1, 6, 15, 20, 15, 6, 1]]\n",
      "Input: num_rows = 8\n",
      "Output: [[1], [1, 1], [1, 2, 1], [1, 3, 3, 1], [1, 4, 6, 4, 1], [1, 5, 10, 10, 5, 1], [1, 6, 15, 20, 15, 6, 1], [1, 7, 21, 35, 35, 21, 7, 1]]\n",
      "Input: num_rows = 9\n",
      "Output: [[1], [1, 1], [1, 2, 1], [1, 3, 3, 1], [1, 4, 6, 4, 1], [1, 5, 10, 10, 5, 1], [1, 6, 15, 20, 15, 6, 1], [1, 7, 21, 35, 35, 21, 7, 1], [1, 8, 28, 56, 70, 56, 28, 8, 1]]\n",
      "Input: num_rows = 10\n",
      "Output: [[1], [1, 1], [1, 2, 1], [1, 3, 3, 1], [1, 4, 6, 4, 1], [1, 5, 10, 10, 5, 1], [1, 6, 15, 20, 15, 6, 1], [1, 7, 21, 35, 35, 21, 7, 1], [1, 8, 28, 56, 70, 56, 28, 8, 1], [1, 9, 36, 84, 126, 126, 84, 36, 9, 1]]\n",
      "Input: num_rows = 11\n",
      "Output: [[1], [1, 1], [1, 2, 1], [1, 3, 3, 1], [1, 4, 6, 4, 1], [1, 5, 10, 10, 5, 1], [1, 6, 15, 20, 15, 6, 1], [1, 7, 21, 35, 35, 21, 7, 1], [1, 8, 28, 56, 70, 56, 28, 8, 1], [1, 9, 36, 84, 126, 126, 84, 36, 9, 1], [1, 10, 45, 120, 210, 252, 210, 120, 45, 10, 1]]\n"
     ]
    }
   ],
   "source": [
    "from typing import List\n",
    "\n",
    "class PascalTriangle:\n",
    "\n",
    "    def generate_rows(self, num_rows: int) -> List[List[int]]:\n",
    "        pascal_triangle = []\n",
    "        \n",
    "        if num_rows < 1:\n",
    "            return pascal_triangle\n",
    "    \n",
    "        pascal_triangle.append([1])\n",
    "\n",
    "        for row_num in range(2, num_rows + 1):\n",
    "            prev_row = pascal_triangle[row_num - 2]\n",
    "            new_row = [prev_row[0]]\n",
    "            last_index = len(prev_row) - 1\n",
    "\n",
    "            for i in range(last_index):\n",
    "                new_row.append(prev_row[i] + prev_row[i + 1])\n",
    "\n",
    "            new_row.append(prev_row[last_index])\n",
    "            pascal_triangle.append(new_row)\n",
    "\n",
    "        return pascal_triangle\n",
    "\n",
    "    def print_PascalTriangle(self, num_rows):\n",
    "        print(f'Input: num_rows = {num_rows}')\n",
    "        pascal_triangle = self.generate_rows(num_rows)\n",
    "        print(f'Output: {pascal_triangle}')\n",
    "\n",
    "# Tests\n",
    "pascal_triangle = PascalTriangle()\n",
    "for num_rows in range(12):\n",
    "    pascal_triangle.print_PascalTriangle(num_rows)"
   ]
  },
  {
   "attachments": {},
   "cell_type": "markdown",
   "metadata": {},
   "source": [
    "# Time Complexity\n",
    "\n",
    "The time complexity to generate all num_rows in Pascal's triangle is O(n^2), where 'n' is the total number of num_rows provided. \n",
    "This is because we need to generate up to n elements for each new_row.\n",
    "\n",
    "# Space Complexity\n",
    "\n",
    "Similarly, the space complexity for this PascalTriangle is O(m x n) where m are the number of num_rows and n the number of elements in each new_row."
   ]
  }
 ],
 "metadata": {
  "kernelspec": {
   "display_name": "Python 3.6.7 64-bit",
   "language": "python",
   "name": "python3"
  },
  "language_info": {
   "codemirror_mode": {
    "name": "ipython",
    "version": 3
   },
   "file_extension": ".py",
   "mimetype": "text/x-python",
   "name": "python",
   "nbconvert_exporter": "python",
   "pygments_lexer": "ipython3",
   "version": "3.6.7"
  },
  "orig_nbformat": 4,
  "vscode": {
   "interpreter": {
    "hash": "aee8b7b246df8f9039afb4144a1f6fd8d2ca17a180786b69acc140d282b71a49"
   }
  }
 },
 "nbformat": 4,
 "nbformat_minor": 2
}
